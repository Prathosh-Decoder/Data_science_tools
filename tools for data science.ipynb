{
 "cells": [
  {
   "cell_type": "markdown",
   "id": "22653657",
   "metadata": {},
   "source": [
    "<center>\n",
    "    <img src=\"https://cf-courses-data.s3.us.cloud-object-storage.appdomain.cloud/IBMDeveloperSkillsNetwork-DS0105EN-SkillsNetwork/labs/Module2/images/SN_web_lightmode.png\" width=\"300\" alt=\"cognitiveclass.ai logo\">\n",
    "</center>\n"
   ]
  },
  {
   "cell_type": "markdown",
   "id": "35575126",
   "metadata": {},
   "source": [
    "# Hands-on Lab: Create your Jupyter Notebook\n"
   ]
  },
  {
   "cell_type": "markdown",
   "id": "8e4b605b",
   "metadata": {},
   "source": [
    "# Data Science Tools and Ecosystem\n"
   ]
  },
  {
   "cell_type": "markdown",
   "id": "f4f0a4d7",
   "metadata": {},
   "source": [
    "## Introduction\n",
    "\n",
    "In this notebook, we will explore various tools, languages, and libraries used in the field of Data Science. We will also perform some basic arithmetic operations and learn how to convert time units.\n"
   ]
  },
  {
   "cell_type": "markdown",
   "id": "267e35f8",
   "metadata": {},
   "source": [
    "## Data Science Languages\n",
    "\n",
    "Some popular languages that Data Scientists use are:\n",
    "- Python\n",
    "- R\n",
    "- SQL\n",
    "- Julia\n",
    "- Scala\n"
   ]
  },
  {
   "cell_type": "markdown",
   "id": "cf3464f4",
   "metadata": {},
   "source": [
    "## Data Science Libraries\n",
    "\n",
    "Some of the commonly used libraries in Data Science are:\n",
    "- Pandas\n",
    "- NumPy\n",
    "- Matplotlib\n",
    "- Scikit-learn\n",
    "- TensorFlow\n"
   ]
  },
  {
   "cell_type": "markdown",
   "id": "333d4cb1",
   "metadata": {},
   "source": [
    "## Data Science Tools\n",
    "            \n",
    "- Jupyter Notebook \n",
    "- RStudio         \n",
    "- Apache Spark     \n",
    "- TensorFlow       \n"
   ]
  },
  {
   "cell_type": "markdown",
   "id": "8a89913d",
   "metadata": {},
   "source": [
    "## Examples of Arithmetic Expressions\n",
    "\n",
    "Below are some examples of basic arithmetic operations like multiplication and addition.\n"
   ]
  },
  {
   "cell_type": "code",
   "execution_count": 6,
   "id": "4faf25a0",
   "metadata": {},
   "outputs": [
    {
     "data": {
      "text/plain": [
       "17"
      ]
     },
     "execution_count": 6,
     "metadata": {},
     "output_type": "execute_result"
    }
   ],
   "source": [
    "(3 * 4) + 5"
   ]
  },
  {
   "cell_type": "code",
   "execution_count": 7,
   "id": "44dddbcf",
   "metadata": {},
   "outputs": [
    {
     "data": {
      "text/plain": [
       "3.3333333333333335"
      ]
     },
     "execution_count": 7,
     "metadata": {},
     "output_type": "execute_result"
    }
   ],
   "source": [
    "minutes = 200\n",
    "hours = minutes / 60\n",
    "hours"
   ]
  },
  {
   "cell_type": "code",
   "execution_count": 12,
   "id": "b9cf501c",
   "metadata": {},
   "outputs": [
    {
     "name": "stdout",
     "output_type": "stream",
     "text": [
      "Please Enter number of minutes0\n",
      "The minutes converted to hours is 0.0\n"
     ]
    }
   ],
   "source": [
    "a=int(input(\"Please Enter number of minutes\"))\n",
    "b=a/60\n",
    "\n",
    "print(\"The minutes converted to hours is\",b)"
   ]
  },
  {
   "cell_type": "markdown",
   "id": "3aedf572",
   "metadata": {},
   "source": [
    "## Objectives\n",
    "\n",
    "In this notebook, we aim to:\n",
    "- List popular languages used in Data Science\n",
    "- Identify key libraries and tools in the field\n",
    "- Demonstrate basic arithmetic operations in code\n",
    "- Convert time units using Python"
   ]
  },
  {
   "cell_type": "markdown",
   "id": "d5342b30",
   "metadata": {},
   "source": [
    "## Author\n",
    "\n",
    "Prathosh Chander\n"
   ]
  },
  {
   "cell_type": "code",
   "execution_count": null,
   "id": "aa5f5ebc",
   "metadata": {},
   "outputs": [],
   "source": []
  }
 ],
 "metadata": {
  "kernelspec": {
   "display_name": "Python 3 (ipykernel)",
   "language": "python",
   "name": "python3"
  },
  "language_info": {
   "codemirror_mode": {
    "name": "ipython",
    "version": 3
   },
   "file_extension": ".py",
   "mimetype": "text/x-python",
   "name": "python",
   "nbconvert_exporter": "python",
   "pygments_lexer": "ipython3",
   "version": "3.9.13"
  }
 },
 "nbformat": 4,
 "nbformat_minor": 5
}
